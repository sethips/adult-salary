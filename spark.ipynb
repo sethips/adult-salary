{
 "cells": [
  {
   "cell_type": "code",
   "execution_count": 1,
   "metadata": {},
   "outputs": [],
   "source": [
    "from pyspark import SparkConf, SparkContext\n",
    "from pyspark.sql import SparkSession\n",
    "from pyspark.ml.classification import LogisticRegression\n",
    "from pyspark.ml.feature import OneHotEncoderEstimator, MinMaxScaler, StringIndexer, VectorAssembler\n",
    "from pyspark.ml import Pipeline, PipelineModel\n",
    "from pyspark.sql.types import StructType, StructField, IntegerType, StringType"
   ]
  },
  {
   "cell_type": "code",
   "execution_count": 2,
   "metadata": {},
   "outputs": [],
   "source": [
    "conf = SparkConf().setMaster('local').setAppName('Predict Adult Salary')\n",
    "sc = SparkContext(conf = conf)"
   ]
  },
  {
   "cell_type": "code",
   "execution_count": 3,
   "metadata": {},
   "outputs": [],
   "source": [
    "spark = SparkSession \\\n",
    "    .builder \\\n",
    "    .appName(\"Predict Adult Salary\") \\\n",
    "    .getOrCreate()"
   ]
  },
  {
   "cell_type": "code",
   "execution_count": 4,
   "metadata": {},
   "outputs": [],
   "source": [
    "schema = StructType([\n",
    "    StructField(\"age\", IntegerType(), True),\n",
    "    StructField(\"workclass\", StringType(), True),\n",
    "    StructField(\"fnlwgt\", IntegerType(), True),\n",
    "    StructField(\"education\", StringType(), True),\n",
    "    StructField(\"education-num\", IntegerType(), True),\n",
    "    StructField(\"marital-status\", StringType(), True),\n",
    "    StructField(\"occupation\", StringType(), True),\n",
    "    StructField(\"relationship\", StringType(), True),\n",
    "    StructField(\"race\", StringType(), True),\n",
    "    StructField(\"sex\", StringType(), True),\n",
    "    StructField(\"capital-gain\", IntegerType(), True),\n",
    "    StructField(\"capital-loss\", IntegerType(), True),\n",
    "    StructField(\"hours-per-week\", IntegerType(), True),\n",
    "    StructField(\"native-country\", StringType(), True),\n",
    "    StructField(\"salary\", StringType(), True)\n",
    "])"
   ]
  },
  {
   "cell_type": "code",
   "execution_count": 5,
   "metadata": {},
   "outputs": [],
   "source": [
    "train_df = spark.read.csv('train.csv', header=False, schema=schema)\n",
    "\n",
    "test_df = spark.read.csv('test.csv', header=False, schema=schema)"
   ]
  },
  {
   "cell_type": "code",
   "execution_count": 6,
   "metadata": {},
   "outputs": [
    {
     "data": {
      "text/plain": [
       "[Row(age=39, workclass='State-gov', fnlwgt=77516, education='Bachelors', education-num=13, marital-status='Never-married', occupation='Adm-clerical', relationship='Not-in-family', race='White', sex='Male', capital-gain=2174, capital-loss=0, hours-per-week=40, native-country='United-States', salary='<=50K'),\n",
       " Row(age=50, workclass='Self-emp-not-inc', fnlwgt=83311, education='Bachelors', education-num=13, marital-status='Married-civ-spouse', occupation='Exec-managerial', relationship='Husband', race='White', sex='Male', capital-gain=0, capital-loss=0, hours-per-week=13, native-country='United-States', salary='<=50K'),\n",
       " Row(age=38, workclass='Private', fnlwgt=215646, education='HS-grad', education-num=9, marital-status='Divorced', occupation='Handlers-cleaners', relationship='Not-in-family', race='White', sex='Male', capital-gain=0, capital-loss=0, hours-per-week=40, native-country='United-States', salary='<=50K'),\n",
       " Row(age=53, workclass='Private', fnlwgt=234721, education='11th', education-num=7, marital-status='Married-civ-spouse', occupation='Handlers-cleaners', relationship='Husband', race='Black', sex='Male', capital-gain=0, capital-loss=0, hours-per-week=40, native-country='United-States', salary='<=50K'),\n",
       " Row(age=28, workclass='Private', fnlwgt=338409, education='Bachelors', education-num=13, marital-status='Married-civ-spouse', occupation='Prof-specialty', relationship='Wife', race='Black', sex='Female', capital-gain=0, capital-loss=0, hours-per-week=40, native-country='Cuba', salary='<=50K')]"
      ]
     },
     "execution_count": 6,
     "metadata": {},
     "output_type": "execute_result"
    }
   ],
   "source": [
    "train_df.head(5)"
   ]
  },
  {
   "cell_type": "code",
   "execution_count": 7,
   "metadata": {},
   "outputs": [
    {
     "data": {
      "text/html": [
       "<div>\n",
       "<style scoped>\n",
       "    .dataframe tbody tr th:only-of-type {\n",
       "        vertical-align: middle;\n",
       "    }\n",
       "\n",
       "    .dataframe tbody tr th {\n",
       "        vertical-align: top;\n",
       "    }\n",
       "\n",
       "    .dataframe thead th {\n",
       "        text-align: right;\n",
       "    }\n",
       "</style>\n",
       "<table border=\"1\" class=\"dataframe\">\n",
       "  <thead>\n",
       "    <tr style=\"text-align: right;\">\n",
       "      <th></th>\n",
       "      <th>age</th>\n",
       "      <th>workclass</th>\n",
       "      <th>fnlwgt</th>\n",
       "      <th>education</th>\n",
       "      <th>education-num</th>\n",
       "      <th>marital-status</th>\n",
       "      <th>occupation</th>\n",
       "      <th>relationship</th>\n",
       "      <th>race</th>\n",
       "      <th>sex</th>\n",
       "      <th>capital-gain</th>\n",
       "      <th>capital-loss</th>\n",
       "      <th>hours-per-week</th>\n",
       "      <th>native-country</th>\n",
       "      <th>salary</th>\n",
       "    </tr>\n",
       "  </thead>\n",
       "  <tbody>\n",
       "    <tr>\n",
       "      <th>0</th>\n",
       "      <td>39</td>\n",
       "      <td>State-gov</td>\n",
       "      <td>77516</td>\n",
       "      <td>Bachelors</td>\n",
       "      <td>13</td>\n",
       "      <td>Never-married</td>\n",
       "      <td>Adm-clerical</td>\n",
       "      <td>Not-in-family</td>\n",
       "      <td>White</td>\n",
       "      <td>Male</td>\n",
       "      <td>2174</td>\n",
       "      <td>0</td>\n",
       "      <td>40</td>\n",
       "      <td>United-States</td>\n",
       "      <td>&lt;=50K</td>\n",
       "    </tr>\n",
       "    <tr>\n",
       "      <th>1</th>\n",
       "      <td>50</td>\n",
       "      <td>Self-emp-not-inc</td>\n",
       "      <td>83311</td>\n",
       "      <td>Bachelors</td>\n",
       "      <td>13</td>\n",
       "      <td>Married-civ-spouse</td>\n",
       "      <td>Exec-managerial</td>\n",
       "      <td>Husband</td>\n",
       "      <td>White</td>\n",
       "      <td>Male</td>\n",
       "      <td>0</td>\n",
       "      <td>0</td>\n",
       "      <td>13</td>\n",
       "      <td>United-States</td>\n",
       "      <td>&lt;=50K</td>\n",
       "    </tr>\n",
       "    <tr>\n",
       "      <th>2</th>\n",
       "      <td>38</td>\n",
       "      <td>Private</td>\n",
       "      <td>215646</td>\n",
       "      <td>HS-grad</td>\n",
       "      <td>9</td>\n",
       "      <td>Divorced</td>\n",
       "      <td>Handlers-cleaners</td>\n",
       "      <td>Not-in-family</td>\n",
       "      <td>White</td>\n",
       "      <td>Male</td>\n",
       "      <td>0</td>\n",
       "      <td>0</td>\n",
       "      <td>40</td>\n",
       "      <td>United-States</td>\n",
       "      <td>&lt;=50K</td>\n",
       "    </tr>\n",
       "    <tr>\n",
       "      <th>3</th>\n",
       "      <td>53</td>\n",
       "      <td>Private</td>\n",
       "      <td>234721</td>\n",
       "      <td>11th</td>\n",
       "      <td>7</td>\n",
       "      <td>Married-civ-spouse</td>\n",
       "      <td>Handlers-cleaners</td>\n",
       "      <td>Husband</td>\n",
       "      <td>Black</td>\n",
       "      <td>Male</td>\n",
       "      <td>0</td>\n",
       "      <td>0</td>\n",
       "      <td>40</td>\n",
       "      <td>United-States</td>\n",
       "      <td>&lt;=50K</td>\n",
       "    </tr>\n",
       "    <tr>\n",
       "      <th>4</th>\n",
       "      <td>28</td>\n",
       "      <td>Private</td>\n",
       "      <td>338409</td>\n",
       "      <td>Bachelors</td>\n",
       "      <td>13</td>\n",
       "      <td>Married-civ-spouse</td>\n",
       "      <td>Prof-specialty</td>\n",
       "      <td>Wife</td>\n",
       "      <td>Black</td>\n",
       "      <td>Female</td>\n",
       "      <td>0</td>\n",
       "      <td>0</td>\n",
       "      <td>40</td>\n",
       "      <td>Cuba</td>\n",
       "      <td>&lt;=50K</td>\n",
       "    </tr>\n",
       "  </tbody>\n",
       "</table>\n",
       "</div>"
      ],
      "text/plain": [
       "   age         workclass  fnlwgt  education  education-num  \\\n",
       "0   39         State-gov   77516  Bachelors             13   \n",
       "1   50  Self-emp-not-inc   83311  Bachelors             13   \n",
       "2   38           Private  215646    HS-grad              9   \n",
       "3   53           Private  234721       11th              7   \n",
       "4   28           Private  338409  Bachelors             13   \n",
       "\n",
       "       marital-status         occupation   relationship   race     sex  \\\n",
       "0       Never-married       Adm-clerical  Not-in-family  White    Male   \n",
       "1  Married-civ-spouse    Exec-managerial        Husband  White    Male   \n",
       "2            Divorced  Handlers-cleaners  Not-in-family  White    Male   \n",
       "3  Married-civ-spouse  Handlers-cleaners        Husband  Black    Male   \n",
       "4  Married-civ-spouse     Prof-specialty           Wife  Black  Female   \n",
       "\n",
       "   capital-gain  capital-loss  hours-per-week native-country salary  \n",
       "0          2174             0              40  United-States  <=50K  \n",
       "1             0             0              13  United-States  <=50K  \n",
       "2             0             0              40  United-States  <=50K  \n",
       "3             0             0              40  United-States  <=50K  \n",
       "4             0             0              40           Cuba  <=50K  "
      ]
     },
     "execution_count": 7,
     "metadata": {},
     "output_type": "execute_result"
    }
   ],
   "source": [
    "train_df.limit(5).toPandas()"
   ]
  },
  {
   "cell_type": "code",
   "execution_count": 8,
   "metadata": {},
   "outputs": [],
   "source": [
    "categorical_variables = ['workclass', 'education', 'marital-status', 'occupation', 'relationship', 'race', 'sex', 'native-country']\n",
    "\n",
    "indexers = [StringIndexer(inputCol=column, outputCol=column+\"-index\") for column in categorical_variables]\n",
    "\n",
    "encoder = OneHotEncoderEstimator(\n",
    "    inputCols=[indexer.getOutputCol() for indexer in indexers],\n",
    "    outputCols=[\n",
    "        \"{0}-encoded\".format(indexer.getOutputCol()) for indexer in indexers]\n",
    ")\n",
    "\n",
    "assembler = VectorAssembler(\n",
    "    inputCols=encoder.getOutputCols(),\n",
    "    outputCol=\"categorical-features\"\n",
    ")\n",
    "\n",
    "scaler = MinMaxScaler(\n",
    "    inputCol=\"categorical-features\",\n",
    "    outputCol=\"scaled-categorical-features\"\n",
    ")\n",
    "\n",
    "\n",
    "pipeline = Pipeline(stages=indexers + [encoder, assembler, scaler])\n",
    "\n",
    "train_df = pipeline.fit(train_df).transform(train_df)\n",
    "\n",
    "test_df = pipeline.fit(test_df).transform(test_df)"
   ]
  },
  {
   "cell_type": "code",
   "execution_count": 9,
   "metadata": {},
   "outputs": [
    {
     "name": "stdout",
     "output_type": "stream",
     "text": [
      "root\n",
      " |-- age: integer (nullable = true)\n",
      " |-- workclass: string (nullable = true)\n",
      " |-- fnlwgt: integer (nullable = true)\n",
      " |-- education: string (nullable = true)\n",
      " |-- education-num: integer (nullable = true)\n",
      " |-- marital-status: string (nullable = true)\n",
      " |-- occupation: string (nullable = true)\n",
      " |-- relationship: string (nullable = true)\n",
      " |-- race: string (nullable = true)\n",
      " |-- sex: string (nullable = true)\n",
      " |-- capital-gain: integer (nullable = true)\n",
      " |-- capital-loss: integer (nullable = true)\n",
      " |-- hours-per-week: integer (nullable = true)\n",
      " |-- native-country: string (nullable = true)\n",
      " |-- salary: string (nullable = true)\n",
      " |-- workclass-index: double (nullable = false)\n",
      " |-- education-index: double (nullable = false)\n",
      " |-- marital-status-index: double (nullable = false)\n",
      " |-- occupation-index: double (nullable = false)\n",
      " |-- relationship-index: double (nullable = false)\n",
      " |-- race-index: double (nullable = false)\n",
      " |-- sex-index: double (nullable = false)\n",
      " |-- native-country-index: double (nullable = false)\n",
      " |-- workclass-index-encoded: vector (nullable = true)\n",
      " |-- occupation-index-encoded: vector (nullable = true)\n",
      " |-- marital-status-index-encoded: vector (nullable = true)\n",
      " |-- native-country-index-encoded: vector (nullable = true)\n",
      " |-- education-index-encoded: vector (nullable = true)\n",
      " |-- race-index-encoded: vector (nullable = true)\n",
      " |-- relationship-index-encoded: vector (nullable = true)\n",
      " |-- sex-index-encoded: vector (nullable = true)\n",
      " |-- categorical-features: vector (nullable = true)\n",
      " |-- scaled-categorical-features: vector (nullable = true)\n",
      "\n"
     ]
    }
   ],
   "source": [
    "train_df.printSchema()"
   ]
  },
  {
   "cell_type": "code",
   "execution_count": 10,
   "metadata": {},
   "outputs": [],
   "source": [
    "df = train_df.limit(5).toPandas()"
   ]
  },
  {
   "cell_type": "code",
   "execution_count": 11,
   "metadata": {},
   "outputs": [
    {
     "data": {
      "text/plain": [
       "DenseVector([0.0, 1.0, 0.0, 0.0, 0.0, 0.0, 0.0, 0.0, 0.0, 0.0, 1.0, 0.0, 0.0, 0.0, 0.0, 0.0, 0.0, 0.0, 0.0, 0.0, 0.0, 0.0, 0.0, 1.0, 0.0, 0.0, 0.0, 0.0, 0.0, 0.0, 0.0, 1.0, 0.0, 0.0, 0.0, 0.0, 0.0, 0.0, 0.0, 0.0, 0.0, 0.0, 0.0, 1.0, 0.0, 0.0, 0.0, 0.0, 1.0, 0.0, 0.0, 0.0, 1.0, 1.0, 0.0, 0.0, 0.0, 0.0, 0.0, 0.0, 0.0, 0.0, 0.0, 0.0, 0.0, 0.0, 0.0, 0.0, 0.0, 0.0, 0.0, 0.0, 0.0, 0.0, 0.0, 0.0, 0.0, 0.0, 0.0, 0.0, 0.0, 0.0, 0.0, 0.0, 0.0, 0.0, 0.0, 0.0, 0.0, 0.0, 0.0, 0.0, 0.0])"
      ]
     },
     "execution_count": 11,
     "metadata": {},
     "output_type": "execute_result"
    }
   ],
   "source": [
    "df['scaled-categorical-features'][1]"
   ]
  },
  {
   "cell_type": "code",
   "execution_count": 12,
   "metadata": {},
   "outputs": [],
   "source": [
    "continuous_variables = ['age', 'fnlwgt', 'education-num', 'capital-gain', 'capital-loss', 'hours-per-week']\n",
    "\n",
    "assembler = VectorAssembler(\n",
    "    inputCols=['scaled-categorical-features', *continuous_variables],\n",
    "    outputCol='features'\n",
    ")\n",
    "\n",
    "train_df = assembler.transform(train_df)\n",
    "\n",
    "test_df = assembler.transform(test_df)"
   ]
  },
  {
   "cell_type": "code",
   "execution_count": 13,
   "metadata": {},
   "outputs": [
    {
     "data": {
      "text/plain": [
       "SparseVector(99, {4: 1.0, 10: 1.0, 24: 1.0, 32: 1.0, 44: 1.0, 48: 1.0, 52: 1.0, 53: 1.0, 93: 39.0, 94: 77516.0, 95: 13.0, 96: 2174.0, 98: 40.0})"
      ]
     },
     "execution_count": 13,
     "metadata": {},
     "output_type": "execute_result"
    }
   ],
   "source": [
    "train_df.limit(5).toPandas()['features'][0]"
   ]
  },
  {
   "cell_type": "code",
   "execution_count": 14,
   "metadata": {},
   "outputs": [],
   "source": [
    "indexer = StringIndexer(inputCol='salary', outputCol='label')\n",
    "\n",
    "train_df = indexer.fit(train_df).transform(train_df)\n",
    "\n",
    "test_df = indexer.fit(test_df).transform(test_df)"
   ]
  },
  {
   "cell_type": "code",
   "execution_count": 15,
   "metadata": {},
   "outputs": [
    {
     "data": {
      "text/plain": [
       "0    0.0\n",
       "1    0.0\n",
       "2    0.0\n",
       "3    0.0\n",
       "4    0.0\n",
       "5    0.0\n",
       "6    0.0\n",
       "7    1.0\n",
       "8    1.0\n",
       "9    1.0\n",
       "Name: label, dtype: float64"
      ]
     },
     "execution_count": 15,
     "metadata": {},
     "output_type": "execute_result"
    }
   ],
   "source": [
    "train_df.limit(10).toPandas()['label']"
   ]
  },
  {
   "cell_type": "code",
   "execution_count": 16,
   "metadata": {},
   "outputs": [],
   "source": [
    "lr = LogisticRegression(featuresCol='features', labelCol='label')\n",
    "\n",
    "model = lr.fit(train_df)"
   ]
  },
  {
   "cell_type": "code",
   "execution_count": 17,
   "metadata": {},
   "outputs": [],
   "source": [
    "pred = model.transform(test_df)"
   ]
  },
  {
   "cell_type": "code",
   "execution_count": 18,
   "metadata": {},
   "outputs": [
    {
     "name": "stdout",
     "output_type": "stream",
     "text": [
      "+---+----------------+------+------------+-------------+------------------+-----------------+-------------+------------------+------+------------+------------+--------------+--------------+------+---------------+---------------+--------------------+----------------+------------------+----------+---------+--------------------+-----------------------+------------------------+----------------------------+----------------------------+-----------------------+------------------+--------------------------+-----------------+--------------------+---------------------------+--------------------+-----+--------------------+--------------------+----------+\n",
      "|age|       workclass|fnlwgt|   education|education-num|    marital-status|       occupation| relationship|              race|   sex|capital-gain|capital-loss|hours-per-week|native-country|salary|workclass-index|education-index|marital-status-index|occupation-index|relationship-index|race-index|sex-index|native-country-index|workclass-index-encoded|occupation-index-encoded|marital-status-index-encoded|native-country-index-encoded|education-index-encoded|race-index-encoded|relationship-index-encoded|sex-index-encoded|categorical-features|scaled-categorical-features|            features|label|       rawPrediction|         probability|prediction|\n",
      "+---+----------------+------+------------+-------------+------------------+-----------------+-------------+------------------+------+------------+------------+--------------+--------------+------+---------------+---------------+--------------------+----------------+------------------+----------+---------+--------------------+-----------------------+------------------------+----------------------------+----------------------------+-----------------------+------------------+--------------------------+-----------------+--------------------+---------------------------+--------------------+-----+--------------------+--------------------+----------+\n",
      "| 25|         Private|226802|        11th|            7|     Never-married|Machine-op-inspct|    Own-child|             Black|  Male|           0|           0|            40| United-States|<=50K.|            0.0|            5.0|                 1.0|             6.0|               2.0|       1.0|      0.0|                 0.0|          (8,[0],[1.0])|          (14,[6],[1.0])|               (6,[1],[1.0])|              (40,[0],[1.0])|         (15,[5],[1.0])|     (4,[1],[1.0])|             (5,[2],[1.0])|    (1,[0],[1.0])|(93,[0,13,24,35,4...|       [1.0,0.0,0.0,0.0,...|(99,[0,13,24,35,4...|  0.0|[6.12785053014440...|[0.99782348307145...|       0.0|\n",
      "| 38|         Private| 89814|     HS-grad|            9|Married-civ-spouse|  Farming-fishing|      Husband|             White|  Male|           0|           0|            50| United-States|<=50K.|            0.0|            0.0|                 0.0|            11.0|               0.0|       0.0|      0.0|                 0.0|          (8,[0],[1.0])|         (14,[11],[1.0])|               (6,[0],[1.0])|              (40,[0],[1.0])|         (15,[0],[1.0])|     (4,[0],[1.0])|             (5,[0],[1.0])|    (1,[0],[1.0])|(93,[0,8,23,40,43...|       [1.0,0.0,0.0,0.0,...|(99,[0,8,23,40,43...|  0.0|[0.35905600270105...|[0.58881189974003...|       0.0|\n",
      "| 28|       Local-gov|336951|  Assoc-acdm|           12|Married-civ-spouse|  Protective-serv|      Husband|             White|  Male|           0|           0|            40| United-States| >50K.|            2.0|            6.0|                 0.0|            12.0|               0.0|       0.0|      0.0|                 0.0|          (8,[2],[1.0])|         (14,[12],[1.0])|               (6,[0],[1.0])|              (40,[0],[1.0])|         (15,[6],[1.0])|     (4,[0],[1.0])|             (5,[0],[1.0])|    (1,[0],[1.0])|(93,[2,14,23,41,4...|       [0.0,0.0,1.0,0.0,...|(99,[2,14,23,41,4...|  1.0|[0.47685149774552...|[0.61700412669547...|       0.0|\n",
      "| 44|         Private|160323|Some-college|           10|Married-civ-spouse|Machine-op-inspct|      Husband|             Black|  Male|        7688|           0|            40| United-States| >50K.|            0.0|            1.0|                 0.0|             6.0|               0.0|       1.0|      0.0|                 0.0|          (8,[0],[1.0])|          (14,[6],[1.0])|               (6,[0],[1.0])|              (40,[0],[1.0])|         (15,[1],[1.0])|     (4,[1],[1.0])|             (5,[0],[1.0])|    (1,[0],[1.0])|(93,[0,9,23,35,43...|       [1.0,0.0,0.0,0.0,...|(99,[0,9,23,35,43...|  1.0|[-1.1863500491668...|[0.23391236201998...|       1.0|\n",
      "| 18|               ?|103497|Some-college|           10|     Never-married|                ?|    Own-child|             White|Female|           0|           0|            30| United-States|<=50K.|            3.0|            1.0|                 1.0|             7.0|               2.0|       0.0|      1.0|                 0.0|          (8,[3],[1.0])|          (14,[7],[1.0])|               (6,[1],[1.0])|              (40,[0],[1.0])|         (15,[1],[1.0])|     (4,[0],[1.0])|             (5,[2],[1.0])|        (1,[],[])|(93,[3,9,24,36,45...|       [0.0,0.0,0.0,1.0,...|(99,[3,9,24,36,45...|  0.0|[6.69959580511884...|[0.99877010497293...|       0.0|\n",
      "| 34|         Private|198693|        10th|            6|     Never-married|    Other-service|Not-in-family|             White|  Male|           0|           0|            30| United-States|<=50K.|            0.0|            7.0|                 1.0|             5.0|               1.0|       0.0|      0.0|                 0.0|          (8,[0],[1.0])|          (14,[5],[1.0])|               (6,[1],[1.0])|              (40,[0],[1.0])|         (15,[7],[1.0])|     (4,[0],[1.0])|             (5,[1],[1.0])|    (1,[0],[1.0])|(93,[0,15,24,34,4...|       [1.0,0.0,0.0,0.0,...|(99,[0,15,24,34,4...|  0.0|[5.40698231638340...|[0.99553487220087...|       0.0|\n",
      "| 29|               ?|227026|     HS-grad|            9|     Never-married|                ?|    Unmarried|             Black|  Male|           0|           0|            40| United-States|<=50K.|            3.0|            0.0|                 1.0|             7.0|               3.0|       1.0|      0.0|                 0.0|          (8,[3],[1.0])|          (14,[7],[1.0])|               (6,[1],[1.0])|              (40,[0],[1.0])|         (15,[0],[1.0])|     (4,[1],[1.0])|             (5,[3],[1.0])|    (1,[0],[1.0])|(93,[3,8,24,36,46...|       [0.0,0.0,0.0,1.0,...|(99,[3,8,24,36,46...|  0.0|[4.58648904953372...|[0.98991419271979...|       0.0|\n",
      "| 63|Self-emp-not-inc|104626| Prof-school|           15|Married-civ-spouse|   Prof-specialty|      Husband|             White|  Male|        3103|           0|            32| United-States| >50K.|            1.0|            9.0|                 0.0|             0.0|               0.0|       0.0|      0.0|                 0.0|          (8,[1],[1.0])|          (14,[0],[1.0])|               (6,[0],[1.0])|              (40,[0],[1.0])|         (15,[9],[1.0])|     (4,[0],[1.0])|             (5,[0],[1.0])|    (1,[0],[1.0])|(93,[1,17,23,29,4...|       [0.0,1.0,0.0,0.0,...|(99,[1,17,23,29,4...|  1.0|[-2.0774722096845...|[0.11130576204734...|       1.0|\n",
      "| 24|         Private|369667|Some-college|           10|     Never-married|    Other-service|    Unmarried|             White|Female|           0|           0|            40| United-States|<=50K.|            0.0|            1.0|                 1.0|             5.0|               3.0|       0.0|      1.0|                 0.0|          (8,[0],[1.0])|          (14,[5],[1.0])|               (6,[1],[1.0])|              (40,[0],[1.0])|         (15,[1],[1.0])|     (4,[0],[1.0])|             (5,[3],[1.0])|        (1,[],[])|(93,[0,9,24,34,46...|       [1.0,0.0,0.0,0.0,...|(99,[0,9,24,34,46...|  0.0|[5.04530694409767...|[0.99360171813149...|       0.0|\n",
      "| 55|         Private|104996|     7th-8th|            4|Married-civ-spouse|     Craft-repair|      Husband|             White|  Male|           0|           0|            10| United-States|<=50K.|            0.0|            8.0|                 0.0|             2.0|               0.0|       0.0|      0.0|                 0.0|          (8,[0],[1.0])|          (14,[2],[1.0])|               (6,[0],[1.0])|              (40,[0],[1.0])|         (15,[8],[1.0])|     (4,[0],[1.0])|             (5,[0],[1.0])|    (1,[0],[1.0])|(93,[0,16,23,31,4...|       [1.0,0.0,0.0,0.0,...|(99,[0,16,23,31,4...|  0.0|[2.25964181779946...|[0.90547897983455...|       0.0|\n",
      "| 65|         Private|184454|     HS-grad|            9|Married-civ-spouse|Machine-op-inspct|      Husband|             White|  Male|        6418|           0|            40| United-States| >50K.|            0.0|            0.0|                 0.0|             6.0|               0.0|       0.0|      0.0|                 0.0|          (8,[0],[1.0])|          (14,[6],[1.0])|               (6,[0],[1.0])|              (40,[0],[1.0])|         (15,[0],[1.0])|     (4,[0],[1.0])|             (5,[0],[1.0])|    (1,[0],[1.0])|(93,[0,8,23,35,43...|       [1.0,0.0,0.0,0.0,...|(99,[0,8,23,35,43...|  1.0|[-1.1765618030138...|[0.23567095624976...|       1.0|\n",
      "| 36|     Federal-gov|212465|   Bachelors|           13|Married-civ-spouse|     Adm-clerical|      Husband|             White|  Male|           0|           0|            40| United-States|<=50K.|            6.0|            2.0|                 0.0|             4.0|               0.0|       0.0|      0.0|                 0.0|          (8,[6],[1.0])|          (14,[4],[1.0])|               (6,[0],[1.0])|              (40,[0],[1.0])|         (15,[2],[1.0])|     (4,[0],[1.0])|             (5,[0],[1.0])|    (1,[0],[1.0])|(93,[6,10,23,33,4...|       [0.0,0.0,0.0,0.0,...|(99,[6,10,23,33,4...|  0.0|[-0.6175238228808...|[0.35034482852324...|       1.0|\n",
      "| 26|         Private| 82091|     HS-grad|            9|     Never-married|     Adm-clerical|Not-in-family|             White|Female|           0|           0|            39| United-States|<=50K.|            0.0|            0.0|                 1.0|             4.0|               1.0|       0.0|      1.0|                 0.0|          (8,[0],[1.0])|          (14,[4],[1.0])|               (6,[1],[1.0])|              (40,[0],[1.0])|         (15,[0],[1.0])|     (4,[0],[1.0])|             (5,[1],[1.0])|        (1,[],[])|(93,[0,8,24,33,44...|       [1.0,0.0,0.0,0.0,...|(99,[0,8,24,33,44...|  0.0|[4.33829571744401...|[0.98710956804795...|       0.0|\n",
      "| 58|               ?|299831|     HS-grad|            9|Married-civ-spouse|                ?|      Husband|             White|  Male|           0|           0|            35| United-States|<=50K.|            3.0|            0.0|                 0.0|             7.0|               0.0|       0.0|      0.0|                 0.0|          (8,[3],[1.0])|          (14,[7],[1.0])|               (6,[0],[1.0])|              (40,[0],[1.0])|         (15,[0],[1.0])|     (4,[0],[1.0])|             (5,[0],[1.0])|    (1,[0],[1.0])|(93,[3,8,23,36,43...|       [0.0,0.0,0.0,1.0,...|(99,[3,8,23,36,43...|  0.0|[1.50562205275157...|[0.81841148879082...|       0.0|\n",
      "| 48|         Private|279724|     HS-grad|            9|Married-civ-spouse|Machine-op-inspct|      Husband|             White|  Male|        3103|           0|            48| United-States| >50K.|            0.0|            0.0|                 0.0|             6.0|               0.0|       0.0|      0.0|                 0.0|          (8,[0],[1.0])|          (14,[6],[1.0])|               (6,[0],[1.0])|              (40,[0],[1.0])|         (15,[0],[1.0])|     (4,[0],[1.0])|             (5,[0],[1.0])|    (1,[0],[1.0])|(93,[0,8,23,35,43...|       [1.0,0.0,0.0,0.0,...|(99,[0,8,23,35,43...|  1.0|[-0.0094854151519...|[0.49762866399169...|       1.0|\n",
      "| 43|         Private|346189|     Masters|           14|Married-civ-spouse|  Exec-managerial|      Husband|             White|  Male|           0|           0|            50| United-States| >50K.|            0.0|            3.0|                 0.0|             1.0|               0.0|       0.0|      0.0|                 0.0|          (8,[0],[1.0])|          (14,[1],[1.0])|               (6,[0],[1.0])|              (40,[0],[1.0])|         (15,[3],[1.0])|     (4,[0],[1.0])|             (5,[0],[1.0])|    (1,[0],[1.0])|(93,[0,11,23,30,4...|       [1.0,0.0,0.0,0.0,...|(99,[0,11,23,30,4...|  1.0|[-0.8445806494405...|[0.30057092421183...|       1.0|\n",
      "| 20|       State-gov|444554|Some-college|           10|     Never-married|    Other-service|    Own-child|             White|  Male|           0|           0|            25| United-States|<=50K.|            4.0|            1.0|                 1.0|             5.0|               2.0|       0.0|      0.0|                 0.0|          (8,[4],[1.0])|          (14,[5],[1.0])|               (6,[1],[1.0])|              (40,[0],[1.0])|         (15,[1],[1.0])|     (4,[0],[1.0])|             (5,[2],[1.0])|    (1,[0],[1.0])|(93,[4,9,24,34,45...|       [0.0,0.0,0.0,0.0,...|(99,[4,9,24,34,45...|  0.0|[6.15220406137016...|[0.99787573747381...|       0.0|\n",
      "| 43|         Private|128354|     HS-grad|            9|Married-civ-spouse|     Adm-clerical|         Wife|             White|Female|           0|           0|            30| United-States|<=50K.|            0.0|            0.0|                 0.0|             4.0|               4.0|       0.0|      1.0|                 0.0|          (8,[0],[1.0])|          (14,[4],[1.0])|               (6,[0],[1.0])|              (40,[0],[1.0])|         (15,[0],[1.0])|     (4,[0],[1.0])|             (5,[4],[1.0])|        (1,[],[])|(93,[0,8,23,33,47...|       [1.0,0.0,0.0,0.0,...|(99,[0,8,23,33,47...|  0.0|[0.68714773746051...|[0.66533212667576...|       0.0|\n",
      "| 37|         Private| 60548|     HS-grad|            9|           Widowed|Machine-op-inspct|    Unmarried|             White|Female|           0|           0|            20| United-States|<=50K.|            0.0|            0.0|                 3.0|             6.0|               3.0|       0.0|      1.0|                 0.0|          (8,[0],[1.0])|          (14,[6],[1.0])|               (6,[3],[1.0])|              (40,[0],[1.0])|         (15,[0],[1.0])|     (4,[0],[1.0])|             (5,[3],[1.0])|        (1,[],[])|(93,[0,8,26,35,46...|       [1.0,0.0,0.0,0.0,...|(99,[0,8,26,35,46...|  0.0|[4.97975158998885...|[0.99317118302178...|       0.0|\n",
      "| 40|         Private| 85019|   Doctorate|           16|Married-civ-spouse|   Prof-specialty|      Husband|Asian-Pac-Islander|  Male|           0|           0|            45|             ?| >50K.|            0.0|           12.0|                 0.0|             0.0|               0.0|       2.0|      0.0|                 2.0|          (8,[0],[1.0])|          (14,[0],[1.0])|               (6,[0],[1.0])|              (40,[2],[1.0])|        (15,[12],[1.0])|     (4,[2],[1.0])|             (5,[0],[1.0])|    (1,[0],[1.0])|(93,[0,20,23,29,4...|       [1.0,0.0,0.0,0.0,...|(99,[0,20,23,29,4...|  1.0|[-1.2885118463289...|[0.21610480278023...|       1.0|\n",
      "+---+----------------+------+------------+-------------+------------------+-----------------+-------------+------------------+------+------------+------------+--------------+--------------+------+---------------+---------------+--------------------+----------------+------------------+----------+---------+--------------------+-----------------------+------------------------+----------------------------+----------------------------+-----------------------+------------------+--------------------------+-----------------+--------------------+---------------------------+--------------------+-----+--------------------+--------------------+----------+\n",
      "only showing top 20 rows\n",
      "\n"
     ]
    }
   ],
   "source": [
    "pred.limittoPandas()"
   ]
  },
  {
   "cell_type": "code",
   "execution_count": null,
   "metadata": {},
   "outputs": [],
   "source": []
  }
 ],
 "metadata": {
  "kernelspec": {
   "display_name": "Python 3",
   "language": "python",
   "name": "python3"
  },
  "language_info": {
   "codemirror_mode": {
    "name": "ipython",
    "version": 3
   },
   "file_extension": ".py",
   "mimetype": "text/x-python",
   "name": "python",
   "nbconvert_exporter": "python",
   "pygments_lexer": "ipython3",
   "version": "3.7.3"
  }
 },
 "nbformat": 4,
 "nbformat_minor": 2
}
